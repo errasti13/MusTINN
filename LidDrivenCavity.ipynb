{
  "nbformat": 4,
  "nbformat_minor": 0,
  "metadata": {
    "colab": {
      "provenance": [],
      "gpuType": "T4",
      "authorship_tag": "ABX9TyPGjTwmOm3lY7r0MJXgDtOB",
      "include_colab_link": true
    },
    "kernelspec": {
      "name": "python3",
      "display_name": "Python 3"
    },
    "language_info": {
      "name": "python"
    },
    "accelerator": "GPU"
  },
  "cells": [
    {
      "cell_type": "markdown",
      "metadata": {
        "id": "view-in-github",
        "colab_type": "text"
      },
      "source": [
        "<a href=\"https://colab.research.google.com/github/errasti13/flowINN/blob/master/LidDrivenCavity.ipynb\" target=\"_parent\"><img src=\"https://colab.research.google.com/assets/colab-badge.svg\" alt=\"Open In Colab\"/></a>"
      ]
    },
    {
      "cell_type": "code",
      "execution_count": 1,
      "metadata": {
        "colab": {
          "base_uri": "https://localhost:8080/"
        },
        "id": "6voH5cA6_zbD",
        "outputId": "e97dc0a3-33ec-47b8-c4e0-79aa0f729c6e"
      },
      "outputs": [
        {
          "output_type": "stream",
          "name": "stdout",
          "text": [
            "Cloning into 'flowINN'...\n",
            "remote: Enumerating objects: 667, done.\u001b[K\n",
            "remote: Counting objects: 100% (285/285), done.\u001b[K\n",
            "remote: Compressing objects: 100% (208/208), done.\u001b[K\n",
            "remote: Total 667 (delta 174), reused 179 (delta 77), pack-reused 382 (from 1)\u001b[K\n",
            "Receiving objects: 100% (667/667), 116.87 KiB | 873.00 KiB/s, done.\n",
            "Resolving deltas: 100% (390/390), done.\n"
          ]
        }
      ],
      "source": [
        "!git clone https://github.com/errasti13/flowINN.git"
      ]
    },
    {
      "cell_type": "code",
      "source": [
        "%cd flowINN"
      ],
      "metadata": {
        "colab": {
          "base_uri": "https://localhost:8080/"
        },
        "id": "7l6aHYVzAAgV",
        "outputId": "707234e8-57aa-4a06-d6db-d891d0fb49c9"
      },
      "execution_count": 2,
      "outputs": [
        {
          "output_type": "stream",
          "name": "stdout",
          "text": [
            "/content/flowINN\n"
          ]
        }
      ]
    },
    {
      "cell_type": "code",
      "source": [
        "pip install -e ."
      ],
      "metadata": {
        "colab": {
          "base_uri": "https://localhost:8080/"
        },
        "id": "PPrhYU-tFjSr",
        "outputId": "4c4b5294-dcb9-4ac7-fc5c-34b47af7d820"
      },
      "execution_count": 3,
      "outputs": [
        {
          "output_type": "stream",
          "name": "stdout",
          "text": [
            "Obtaining file:///content/flowINN\n",
            "  Preparing metadata (setup.py) ... \u001b[?25l\u001b[?25hdone\n",
            "Requirement already satisfied: tensorflow>=2.14.1 in /usr/local/lib/python3.11/dist-packages (from flowinn==0.1.0) (2.18.0)\n",
            "Requirement already satisfied: numpy>=1.26.4 in /usr/local/lib/python3.11/dist-packages (from flowinn==0.1.0) (1.26.4)\n",
            "Requirement already satisfied: matplotlib>=3.8.3 in /usr/local/lib/python3.11/dist-packages (from flowinn==0.1.0) (3.10.0)\n",
            "Requirement already satisfied: scipy>=1.13.1 in /usr/local/lib/python3.11/dist-packages (from flowinn==0.1.0) (1.13.1)\n",
            "Requirement already satisfied: contourpy>=1.0.1 in /usr/local/lib/python3.11/dist-packages (from matplotlib>=3.8.3->flowinn==0.1.0) (1.3.1)\n",
            "Requirement already satisfied: cycler>=0.10 in /usr/local/lib/python3.11/dist-packages (from matplotlib>=3.8.3->flowinn==0.1.0) (0.12.1)\n",
            "Requirement already satisfied: fonttools>=4.22.0 in /usr/local/lib/python3.11/dist-packages (from matplotlib>=3.8.3->flowinn==0.1.0) (4.55.8)\n",
            "Requirement already satisfied: kiwisolver>=1.3.1 in /usr/local/lib/python3.11/dist-packages (from matplotlib>=3.8.3->flowinn==0.1.0) (1.4.8)\n",
            "Requirement already satisfied: packaging>=20.0 in /usr/local/lib/python3.11/dist-packages (from matplotlib>=3.8.3->flowinn==0.1.0) (24.2)\n",
            "Requirement already satisfied: pillow>=8 in /usr/local/lib/python3.11/dist-packages (from matplotlib>=3.8.3->flowinn==0.1.0) (11.1.0)\n",
            "Requirement already satisfied: pyparsing>=2.3.1 in /usr/local/lib/python3.11/dist-packages (from matplotlib>=3.8.3->flowinn==0.1.0) (3.2.1)\n",
            "Requirement already satisfied: python-dateutil>=2.7 in /usr/local/lib/python3.11/dist-packages (from matplotlib>=3.8.3->flowinn==0.1.0) (2.8.2)\n",
            "Requirement already satisfied: absl-py>=1.0.0 in /usr/local/lib/python3.11/dist-packages (from tensorflow>=2.14.1->flowinn==0.1.0) (1.4.0)\n",
            "Requirement already satisfied: astunparse>=1.6.0 in /usr/local/lib/python3.11/dist-packages (from tensorflow>=2.14.1->flowinn==0.1.0) (1.6.3)\n",
            "Requirement already satisfied: flatbuffers>=24.3.25 in /usr/local/lib/python3.11/dist-packages (from tensorflow>=2.14.1->flowinn==0.1.0) (25.1.24)\n",
            "Requirement already satisfied: gast!=0.5.0,!=0.5.1,!=0.5.2,>=0.2.1 in /usr/local/lib/python3.11/dist-packages (from tensorflow>=2.14.1->flowinn==0.1.0) (0.6.0)\n",
            "Requirement already satisfied: google-pasta>=0.1.1 in /usr/local/lib/python3.11/dist-packages (from tensorflow>=2.14.1->flowinn==0.1.0) (0.2.0)\n",
            "Requirement already satisfied: libclang>=13.0.0 in /usr/local/lib/python3.11/dist-packages (from tensorflow>=2.14.1->flowinn==0.1.0) (18.1.1)\n",
            "Requirement already satisfied: opt-einsum>=2.3.2 in /usr/local/lib/python3.11/dist-packages (from tensorflow>=2.14.1->flowinn==0.1.0) (3.4.0)\n",
            "Requirement already satisfied: protobuf!=4.21.0,!=4.21.1,!=4.21.2,!=4.21.3,!=4.21.4,!=4.21.5,<6.0.0dev,>=3.20.3 in /usr/local/lib/python3.11/dist-packages (from tensorflow>=2.14.1->flowinn==0.1.0) (4.25.6)\n",
            "Requirement already satisfied: requests<3,>=2.21.0 in /usr/local/lib/python3.11/dist-packages (from tensorflow>=2.14.1->flowinn==0.1.0) (2.32.3)\n",
            "Requirement already satisfied: setuptools in /usr/local/lib/python3.11/dist-packages (from tensorflow>=2.14.1->flowinn==0.1.0) (75.1.0)\n",
            "Requirement already satisfied: six>=1.12.0 in /usr/local/lib/python3.11/dist-packages (from tensorflow>=2.14.1->flowinn==0.1.0) (1.17.0)\n",
            "Requirement already satisfied: termcolor>=1.1.0 in /usr/local/lib/python3.11/dist-packages (from tensorflow>=2.14.1->flowinn==0.1.0) (2.5.0)\n",
            "Requirement already satisfied: typing-extensions>=3.6.6 in /usr/local/lib/python3.11/dist-packages (from tensorflow>=2.14.1->flowinn==0.1.0) (4.12.2)\n",
            "Requirement already satisfied: wrapt>=1.11.0 in /usr/local/lib/python3.11/dist-packages (from tensorflow>=2.14.1->flowinn==0.1.0) (1.17.2)\n",
            "Requirement already satisfied: grpcio<2.0,>=1.24.3 in /usr/local/lib/python3.11/dist-packages (from tensorflow>=2.14.1->flowinn==0.1.0) (1.70.0)\n",
            "Requirement already satisfied: tensorboard<2.19,>=2.18 in /usr/local/lib/python3.11/dist-packages (from tensorflow>=2.14.1->flowinn==0.1.0) (2.18.0)\n",
            "Requirement already satisfied: keras>=3.5.0 in /usr/local/lib/python3.11/dist-packages (from tensorflow>=2.14.1->flowinn==0.1.0) (3.8.0)\n",
            "Requirement already satisfied: h5py>=3.11.0 in /usr/local/lib/python3.11/dist-packages (from tensorflow>=2.14.1->flowinn==0.1.0) (3.12.1)\n",
            "Requirement already satisfied: ml-dtypes<0.5.0,>=0.4.0 in /usr/local/lib/python3.11/dist-packages (from tensorflow>=2.14.1->flowinn==0.1.0) (0.4.1)\n",
            "Requirement already satisfied: tensorflow-io-gcs-filesystem>=0.23.1 in /usr/local/lib/python3.11/dist-packages (from tensorflow>=2.14.1->flowinn==0.1.0) (0.37.1)\n",
            "Requirement already satisfied: wheel<1.0,>=0.23.0 in /usr/local/lib/python3.11/dist-packages (from astunparse>=1.6.0->tensorflow>=2.14.1->flowinn==0.1.0) (0.45.1)\n",
            "Requirement already satisfied: rich in /usr/local/lib/python3.11/dist-packages (from keras>=3.5.0->tensorflow>=2.14.1->flowinn==0.1.0) (13.9.4)\n",
            "Requirement already satisfied: namex in /usr/local/lib/python3.11/dist-packages (from keras>=3.5.0->tensorflow>=2.14.1->flowinn==0.1.0) (0.0.8)\n",
            "Requirement already satisfied: optree in /usr/local/lib/python3.11/dist-packages (from keras>=3.5.0->tensorflow>=2.14.1->flowinn==0.1.0) (0.14.0)\n",
            "Requirement already satisfied: charset-normalizer<4,>=2 in /usr/local/lib/python3.11/dist-packages (from requests<3,>=2.21.0->tensorflow>=2.14.1->flowinn==0.1.0) (3.4.1)\n",
            "Requirement already satisfied: idna<4,>=2.5 in /usr/local/lib/python3.11/dist-packages (from requests<3,>=2.21.0->tensorflow>=2.14.1->flowinn==0.1.0) (3.10)\n",
            "Requirement already satisfied: urllib3<3,>=1.21.1 in /usr/local/lib/python3.11/dist-packages (from requests<3,>=2.21.0->tensorflow>=2.14.1->flowinn==0.1.0) (2.3.0)\n",
            "Requirement already satisfied: certifi>=2017.4.17 in /usr/local/lib/python3.11/dist-packages (from requests<3,>=2.21.0->tensorflow>=2.14.1->flowinn==0.1.0) (2025.1.31)\n",
            "Requirement already satisfied: markdown>=2.6.8 in /usr/local/lib/python3.11/dist-packages (from tensorboard<2.19,>=2.18->tensorflow>=2.14.1->flowinn==0.1.0) (3.7)\n",
            "Requirement already satisfied: tensorboard-data-server<0.8.0,>=0.7.0 in /usr/local/lib/python3.11/dist-packages (from tensorboard<2.19,>=2.18->tensorflow>=2.14.1->flowinn==0.1.0) (0.7.2)\n",
            "Requirement already satisfied: werkzeug>=1.0.1 in /usr/local/lib/python3.11/dist-packages (from tensorboard<2.19,>=2.18->tensorflow>=2.14.1->flowinn==0.1.0) (3.1.3)\n",
            "Requirement already satisfied: MarkupSafe>=2.1.1 in /usr/local/lib/python3.11/dist-packages (from werkzeug>=1.0.1->tensorboard<2.19,>=2.18->tensorflow>=2.14.1->flowinn==0.1.0) (3.0.2)\n",
            "Requirement already satisfied: markdown-it-py>=2.2.0 in /usr/local/lib/python3.11/dist-packages (from rich->keras>=3.5.0->tensorflow>=2.14.1->flowinn==0.1.0) (3.0.0)\n",
            "Requirement already satisfied: pygments<3.0.0,>=2.13.0 in /usr/local/lib/python3.11/dist-packages (from rich->keras>=3.5.0->tensorflow>=2.14.1->flowinn==0.1.0) (2.18.0)\n",
            "Requirement already satisfied: mdurl~=0.1 in /usr/local/lib/python3.11/dist-packages (from markdown-it-py>=2.2.0->rich->keras>=3.5.0->tensorflow>=2.14.1->flowinn==0.1.0) (0.1.2)\n",
            "Installing collected packages: flowinn\n",
            "  Running setup.py develop for flowinn\n",
            "Successfully installed flowinn-0.1.0\n"
          ]
        }
      ]
    },
    {
      "cell_type": "code",
      "source": [
        "import tensorflow as tf\n",
        "print(\"GPU Available:\", tf.config.list_physical_devices('GPU'))"
      ],
      "metadata": {
        "colab": {
          "base_uri": "https://localhost:8080/"
        },
        "id": "XOzv8fE3Ai0n",
        "outputId": "aa9b454a-b090-4802-8c3b-a15a105b86a4"
      },
      "execution_count": 4,
      "outputs": [
        {
          "output_type": "stream",
          "name": "stdout",
          "text": [
            "GPU Available: [PhysicalDevice(name='/physical_device:GPU:0', device_type='GPU')]\n"
          ]
        }
      ]
    },
    {
      "cell_type": "code",
      "source": [
        "from src.tests.LidDrivenCavity import LidDrivenCavity\n",
        "\n",
        "def main():\n",
        "    # Domain setup\n",
        "    x_range = (-1, 1)\n",
        "    y_range = (-1, 1)\n",
        "\n",
        "    # Simulation parameters\n",
        "    case_name = \"LidDrivenCavity\"\n",
        "    epochs = 10000\n",
        "    print_interval = 100\n",
        "    autosave_interval = 10000\n",
        "\n",
        "    # Mesh parameters\n",
        "    nx = 100\n",
        "    ny = 100\n",
        "    n_boundary = 100\n",
        "\n",
        "    trainedModel = False\n",
        "\n",
        "    try:\n",
        "        # Initialize simulation\n",
        "        cavity = LidDrivenCavity(case_name, x_range, y_range)\n",
        "\n",
        "        # Generate mesh\n",
        "        print(\"Generating mesh...\")\n",
        "        cavity.generateMesh(Nx=nx, Ny=ny, NBoundary=n_boundary, sampling_method='uniform')\n",
        "        cavity.mesh.showMesh()\n",
        "\n",
        "        # Train or load model\n",
        "        if trainedModel:\n",
        "            print(\"Loading pre-trained model...\")\n",
        "            cavity.load_model()\n",
        "        else:\n",
        "            print(\"Starting training...\")\n",
        "            cavity.train(epochs=epochs,\n",
        "                        print_interval=print_interval,\n",
        "                        autosaveInterval=autosave_interval)\n",
        "\n",
        "        # Predict and visualize\n",
        "        print(\"Predicting flow field...\")\n",
        "        cavity.predict()\n",
        "\n",
        "        # Plot results\n",
        "        print(\"Generating plots...\")\n",
        "        cavity.plot(solkey='u')\n",
        "        cavity.plot(solkey='v')\n",
        "        cavity.plot(solkey='p')\n",
        "\n",
        "        print(\"Simulation completed successfully!\")\n",
        "\n",
        "    except Exception as e:\n",
        "        print(f\"Error during simulation: {str(e)}\")\n",
        "        raise\n",
        "\n",
        "if __name__ == \"__main__\":\n",
        "    main()"
      ],
      "metadata": {
        "colab": {
          "base_uri": "https://localhost:8080/",
          "height": 1000
        },
        "id": "EcMl0n7EKB5G",
        "outputId": "4e462b78-2b77-42ed-b9cb-db4a49e48373"
      },
      "execution_count": null,
      "outputs": [
        {
          "output_type": "stream",
          "name": "stderr",
          "text": [
            "/usr/local/lib/python3.11/dist-packages/keras/src/layers/core/input_layer.py:27: UserWarning: Argument `input_shape` is deprecated. Use `shape` instead.\n",
            "  warnings.warn(\n"
          ]
        },
        {
          "output_type": "display_data",
          "data": {
            "text/plain": [
              "\u001b[1mModel: \"sequential_1\"\u001b[0m\n"
            ],
            "text/html": [
              "<pre style=\"white-space:pre;overflow-x:auto;line-height:normal;font-family:Menlo,'DejaVu Sans Mono',consolas,'Courier New',monospace\"><span style=\"font-weight: bold\">Model: \"sequential_1\"</span>\n",
              "</pre>\n"
            ]
          },
          "metadata": {}
        },
        {
          "output_type": "display_data",
          "data": {
            "text/plain": [
              "┏━━━━━━━━━━━━━━━━━━━━━━━━━━━━━━━━━━━━━━┳━━━━━━━━━━━━━━━━━━━━━━━━━━━━━┳━━━━━━━━━━━━━━━━━┓\n",
              "┃\u001b[1m \u001b[0m\u001b[1mLayer (type)                        \u001b[0m\u001b[1m \u001b[0m┃\u001b[1m \u001b[0m\u001b[1mOutput Shape               \u001b[0m\u001b[1m \u001b[0m┃\u001b[1m \u001b[0m\u001b[1m        Param #\u001b[0m\u001b[1m \u001b[0m┃\n",
              "┡━━━━━━━━━━━━━━━━━━━━━━━━━━━━━━━━━━━━━━╇━━━━━━━━━━━━━━━━━━━━━━━━━━━━━╇━━━━━━━━━━━━━━━━━┩\n",
              "│ dense_6 (\u001b[38;5;33mDense\u001b[0m)                      │ (\u001b[38;5;45mNone\u001b[0m, \u001b[38;5;34m20\u001b[0m)                  │              \u001b[38;5;34m60\u001b[0m │\n",
              "├──────────────────────────────────────┼─────────────────────────────┼─────────────────┤\n",
              "│ dense_7 (\u001b[38;5;33mDense\u001b[0m)                      │ (\u001b[38;5;45mNone\u001b[0m, \u001b[38;5;34m40\u001b[0m)                  │             \u001b[38;5;34m840\u001b[0m │\n",
              "├──────────────────────────────────────┼─────────────────────────────┼─────────────────┤\n",
              "│ dense_8 (\u001b[38;5;33mDense\u001b[0m)                      │ (\u001b[38;5;45mNone\u001b[0m, \u001b[38;5;34m60\u001b[0m)                  │           \u001b[38;5;34m2,460\u001b[0m │\n",
              "├──────────────────────────────────────┼─────────────────────────────┼─────────────────┤\n",
              "│ dense_9 (\u001b[38;5;33mDense\u001b[0m)                      │ (\u001b[38;5;45mNone\u001b[0m, \u001b[38;5;34m40\u001b[0m)                  │           \u001b[38;5;34m2,440\u001b[0m │\n",
              "├──────────────────────────────────────┼─────────────────────────────┼─────────────────┤\n",
              "│ dense_10 (\u001b[38;5;33mDense\u001b[0m)                     │ (\u001b[38;5;45mNone\u001b[0m, \u001b[38;5;34m20\u001b[0m)                  │             \u001b[38;5;34m820\u001b[0m │\n",
              "├──────────────────────────────────────┼─────────────────────────────┼─────────────────┤\n",
              "│ dense_11 (\u001b[38;5;33mDense\u001b[0m)                     │ (\u001b[38;5;45mNone\u001b[0m, \u001b[38;5;34m3\u001b[0m)                   │              \u001b[38;5;34m63\u001b[0m │\n",
              "└──────────────────────────────────────┴─────────────────────────────┴─────────────────┘\n"
            ],
            "text/html": [
              "<pre style=\"white-space:pre;overflow-x:auto;line-height:normal;font-family:Menlo,'DejaVu Sans Mono',consolas,'Courier New',monospace\">┏━━━━━━━━━━━━━━━━━━━━━━━━━━━━━━━━━━━━━━┳━━━━━━━━━━━━━━━━━━━━━━━━━━━━━┳━━━━━━━━━━━━━━━━━┓\n",
              "┃<span style=\"font-weight: bold\"> Layer (type)                         </span>┃<span style=\"font-weight: bold\"> Output Shape                </span>┃<span style=\"font-weight: bold\">         Param # </span>┃\n",
              "┡━━━━━━━━━━━━━━━━━━━━━━━━━━━━━━━━━━━━━━╇━━━━━━━━━━━━━━━━━━━━━━━━━━━━━╇━━━━━━━━━━━━━━━━━┩\n",
              "│ dense_6 (<span style=\"color: #0087ff; text-decoration-color: #0087ff\">Dense</span>)                      │ (<span style=\"color: #00d7ff; text-decoration-color: #00d7ff\">None</span>, <span style=\"color: #00af00; text-decoration-color: #00af00\">20</span>)                  │              <span style=\"color: #00af00; text-decoration-color: #00af00\">60</span> │\n",
              "├──────────────────────────────────────┼─────────────────────────────┼─────────────────┤\n",
              "│ dense_7 (<span style=\"color: #0087ff; text-decoration-color: #0087ff\">Dense</span>)                      │ (<span style=\"color: #00d7ff; text-decoration-color: #00d7ff\">None</span>, <span style=\"color: #00af00; text-decoration-color: #00af00\">40</span>)                  │             <span style=\"color: #00af00; text-decoration-color: #00af00\">840</span> │\n",
              "├──────────────────────────────────────┼─────────────────────────────┼─────────────────┤\n",
              "│ dense_8 (<span style=\"color: #0087ff; text-decoration-color: #0087ff\">Dense</span>)                      │ (<span style=\"color: #00d7ff; text-decoration-color: #00d7ff\">None</span>, <span style=\"color: #00af00; text-decoration-color: #00af00\">60</span>)                  │           <span style=\"color: #00af00; text-decoration-color: #00af00\">2,460</span> │\n",
              "├──────────────────────────────────────┼─────────────────────────────┼─────────────────┤\n",
              "│ dense_9 (<span style=\"color: #0087ff; text-decoration-color: #0087ff\">Dense</span>)                      │ (<span style=\"color: #00d7ff; text-decoration-color: #00d7ff\">None</span>, <span style=\"color: #00af00; text-decoration-color: #00af00\">40</span>)                  │           <span style=\"color: #00af00; text-decoration-color: #00af00\">2,440</span> │\n",
              "├──────────────────────────────────────┼─────────────────────────────┼─────────────────┤\n",
              "│ dense_10 (<span style=\"color: #0087ff; text-decoration-color: #0087ff\">Dense</span>)                     │ (<span style=\"color: #00d7ff; text-decoration-color: #00d7ff\">None</span>, <span style=\"color: #00af00; text-decoration-color: #00af00\">20</span>)                  │             <span style=\"color: #00af00; text-decoration-color: #00af00\">820</span> │\n",
              "├──────────────────────────────────────┼─────────────────────────────┼─────────────────┤\n",
              "│ dense_11 (<span style=\"color: #0087ff; text-decoration-color: #0087ff\">Dense</span>)                     │ (<span style=\"color: #00d7ff; text-decoration-color: #00d7ff\">None</span>, <span style=\"color: #00af00; text-decoration-color: #00af00\">3</span>)                   │              <span style=\"color: #00af00; text-decoration-color: #00af00\">63</span> │\n",
              "└──────────────────────────────────────┴─────────────────────────────┴─────────────────┘\n",
              "</pre>\n"
            ]
          },
          "metadata": {}
        },
        {
          "output_type": "display_data",
          "data": {
            "text/plain": [
              "\u001b[1m Total params: \u001b[0m\u001b[38;5;34m6,683\u001b[0m (26.11 KB)\n"
            ],
            "text/html": [
              "<pre style=\"white-space:pre;overflow-x:auto;line-height:normal;font-family:Menlo,'DejaVu Sans Mono',consolas,'Courier New',monospace\"><span style=\"font-weight: bold\"> Total params: </span><span style=\"color: #00af00; text-decoration-color: #00af00\">6,683</span> (26.11 KB)\n",
              "</pre>\n"
            ]
          },
          "metadata": {}
        },
        {
          "output_type": "display_data",
          "data": {
            "text/plain": [
              "\u001b[1m Trainable params: \u001b[0m\u001b[38;5;34m6,683\u001b[0m (26.11 KB)\n"
            ],
            "text/html": [
              "<pre style=\"white-space:pre;overflow-x:auto;line-height:normal;font-family:Menlo,'DejaVu Sans Mono',consolas,'Courier New',monospace\"><span style=\"font-weight: bold\"> Trainable params: </span><span style=\"color: #00af00; text-decoration-color: #00af00\">6,683</span> (26.11 KB)\n",
              "</pre>\n"
            ]
          },
          "metadata": {}
        },
        {
          "output_type": "display_data",
          "data": {
            "text/plain": [
              "\u001b[1m Non-trainable params: \u001b[0m\u001b[38;5;34m0\u001b[0m (0.00 B)\n"
            ],
            "text/html": [
              "<pre style=\"white-space:pre;overflow-x:auto;line-height:normal;font-family:Menlo,'DejaVu Sans Mono',consolas,'Courier New',monospace\"><span style=\"font-weight: bold\"> Non-trainable params: </span><span style=\"color: #00af00; text-decoration-color: #00af00\">0</span> (0.00 B)\n",
              "</pre>\n"
            ]
          },
          "metadata": {}
        },
        {
          "output_type": "stream",
          "name": "stdout",
          "text": [
            "Generating mesh...\n",
            "Starting training...\n",
            "Epoch 100: Loss = 0.020881179720163345\n",
            "Epoch 200: Loss = 0.016982506960630417\n",
            "Epoch 300: Loss = 0.01637641154229641\n",
            "Epoch 400: Loss = 0.016678161919116974\n",
            "Epoch 500: Loss = 0.016590826213359833\n",
            "Epoch 600: Loss = 0.018752088770270348\n",
            "Epoch 700: Loss = 0.019424453377723694\n",
            "Epoch 800: Loss = 0.014991712756454945\n",
            "Epoch 900: Loss = 0.014448635280132294\n",
            "Epoch 1000: Loss = 0.01331238355487585\n",
            "Epoch 1100: Loss = 0.013061041943728924\n",
            "Epoch 1200: Loss = 0.013303006999194622\n",
            "Epoch 1300: Loss = 0.013195929117500782\n",
            "Epoch 1400: Loss = 0.012589429505169392\n",
            "Epoch 1500: Loss = 0.01186671108007431\n",
            "Epoch 1600: Loss = 0.011825265362858772\n",
            "Epoch 1700: Loss = 0.013183142989873886\n",
            "Epoch 1800: Loss = 0.01178566925227642\n",
            "Epoch 1900: Loss = 0.012678449973464012\n",
            "Epoch 2000: Loss = 0.012135348282754421\n",
            "Epoch 2100: Loss = 0.011077634990215302\n",
            "Epoch 2200: Loss = 0.011902300640940666\n",
            "Epoch 2300: Loss = 0.011132762767374516\n",
            "Epoch 2400: Loss = 0.010600953362882137\n",
            "Epoch 2500: Loss = 0.011233402416110039\n",
            "Epoch 2600: Loss = 0.010978148318827152\n",
            "Epoch 2700: Loss = 0.010826800018548965\n",
            "Epoch 2800: Loss = 0.011182730086147785\n",
            "Epoch 2900: Loss = 0.011219289153814316\n",
            "Epoch 3000: Loss = 0.010702431201934814\n",
            "Epoch 3100: Loss = 0.01079598255455494\n",
            "Epoch 3200: Loss = 0.010245549492537975\n",
            "Epoch 3300: Loss = 0.010171063244342804\n",
            "Epoch 3400: Loss = 0.010667325928807259\n",
            "Epoch 3500: Loss = 0.010845830664038658\n",
            "Epoch 3600: Loss = 0.011201427318155766\n",
            "Epoch 3700: Loss = 0.011034578084945679\n",
            "Epoch 3800: Loss = 0.010847416706383228\n",
            "Epoch 3900: Loss = 0.01045463141053915\n",
            "Epoch 4000: Loss = 0.010885678231716156\n",
            "Epoch 4100: Loss = 0.010594409890472889\n",
            "Epoch 4200: Loss = 0.010347716510295868\n",
            "Epoch 4300: Loss = 0.009943211451172829\n",
            "Epoch 4400: Loss = 0.010198883712291718\n",
            "Epoch 4500: Loss = 0.010368222370743752\n",
            "Epoch 4600: Loss = 0.010294105857610703\n",
            "Epoch 4700: Loss = 0.009715462103486061\n",
            "Epoch 4800: Loss = 0.010078033432364464\n",
            "Epoch 4900: Loss = 0.010225219652056694\n",
            "Epoch 5000: Loss = 0.00972769409418106\n",
            "Epoch 5100: Loss = 0.009932566434144974\n",
            "Epoch 5200: Loss = 0.010067015886306763\n",
            "Epoch 5300: Loss = 0.009708346799015999\n",
            "Epoch 5400: Loss = 0.009859682992100716\n",
            "Epoch 5500: Loss = 0.009853173978626728\n",
            "Epoch 5600: Loss = 0.011892789974808693\n",
            "Epoch 5700: Loss = 0.00983597245067358\n",
            "Epoch 5800: Loss = 0.010130491107702255\n",
            "Epoch 5900: Loss = 0.009734983555972576\n",
            "Epoch 6000: Loss = 0.009814690798521042\n",
            "Epoch 6100: Loss = 0.009854157455265522\n",
            "Epoch 6200: Loss = 0.009721637703478336\n",
            "Epoch 6300: Loss = 0.00992993637919426\n",
            "Epoch 6400: Loss = 0.009740094654262066\n",
            "Epoch 6500: Loss = 0.010027988813817501\n",
            "Epoch 6600: Loss = 0.01039041019976139\n",
            "Epoch 6700: Loss = 0.009697923436760902\n",
            "Epoch 6800: Loss = 0.009649358689785004\n",
            "Epoch 6900: Loss = 0.009829791262745857\n",
            "Epoch 7000: Loss = 0.009790496900677681\n",
            "Epoch 7100: Loss = 0.009899628348648548\n",
            "Epoch 7200: Loss = 0.009834909811615944\n",
            "Epoch 7300: Loss = 0.009703585878014565\n",
            "Epoch 7400: Loss = 0.009603872895240784\n",
            "Epoch 7500: Loss = 0.009805331006646156\n",
            "Epoch 7600: Loss = 0.009700761176645756\n",
            "Epoch 7700: Loss = 0.00965835154056549\n",
            "Epoch 7800: Loss = 0.0096467649564147\n",
            "Epoch 7900: Loss = 0.009653926827013493\n",
            "Epoch 8000: Loss = 0.009834078140556812\n",
            "Epoch 8100: Loss = 0.00965900905430317\n",
            "Epoch 8200: Loss = 0.00959474965929985\n",
            "Epoch 8300: Loss = 0.009607410058379173\n",
            "Epoch 8400: Loss = 0.009624880738556385\n",
            "Epoch 8500: Loss = 0.009543229825794697\n",
            "Epoch 8600: Loss = 0.009750216268002987\n",
            "Epoch 8700: Loss = 0.009644269943237305\n",
            "Epoch 8800: Loss = 0.009677648544311523\n",
            "Epoch 8900: Loss = 0.009693652391433716\n",
            "Epoch 9000: Loss = 0.009894290007650852\n",
            "Epoch 9100: Loss = 0.00965895690023899\n",
            "Epoch 9200: Loss = 0.0095851831138134\n",
            "Epoch 9300: Loss = 0.009549184702336788\n",
            "Epoch 9400: Loss = 0.009564531035721302\n",
            "Epoch 9500: Loss = 0.009881055913865566\n",
            "Epoch 9600: Loss = 0.009624488651752472\n",
            "Epoch 9700: Loss = 0.009555408731102943\n",
            "Epoch 9800: Loss = 0.009628496132791042\n",
            "Epoch 9900: Loss = 0.009550195187330246\n"
          ]
        }
      ]
    }
  ]
}